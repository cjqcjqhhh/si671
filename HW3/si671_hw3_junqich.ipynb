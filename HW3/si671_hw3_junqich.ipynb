{
 "cells": [
  {
   "cell_type": "markdown",
   "id": "4d770155",
   "metadata": {},
   "source": [
    "# SI671 Homework3\n",
    "\n",
    "Name: Junqi Chen\n",
    "\n",
    "Uniqname: junqich\n",
    "\n",
    "UMID: 03846505"
   ]
  },
  {
   "cell_type": "code",
   "execution_count": 1,
   "id": "c8282c8d",
   "metadata": {},
   "outputs": [],
   "source": [
    "import networkx as nx\n",
    "import numpy as np\n",
    "import pandas as pd"
   ]
  },
  {
   "cell_type": "markdown",
   "id": "537661df",
   "metadata": {},
   "source": [
    "## Part 1: Exploratory Social Network Analysis"
   ]
  },
  {
   "cell_type": "code",
   "execution_count": 2,
   "id": "1739026f",
   "metadata": {},
   "outputs": [
    {
     "name": "stdout",
     "output_type": "stream",
     "text": [
      "DiGraph with 2647 nodes and 10841 edges\n"
     ]
    }
   ],
   "source": [
    "# a)\n",
    "df = pd.read_csv('amazonNetwork.csv')\n",
    "G = nx.from_pandas_edgelist(df, 'FromNodeId', 'ToNodeId', create_using=nx.DiGraph())\n",
    "print(nx.info(G))"
   ]
  },
  {
   "cell_type": "code",
   "execution_count": 3,
   "id": "d1c6a681",
   "metadata": {},
   "outputs": [
    {
     "name": "stdout",
     "output_type": "stream",
     "text": [
      "There are 2647 items (nodes) present in the network.\n",
      "There are 10841 co-purchases happened.\n"
     ]
    }
   ],
   "source": [
    "# b)\n",
    "print(f'There are {G.number_of_nodes()} items (nodes) present in the network.')\n",
    "print(f'There are {G.number_of_edges()} co-purchases happened.')"
   ]
  },
  {
   "cell_type": "code",
   "execution_count": 4,
   "id": "cb3e5931",
   "metadata": {},
   "outputs": [
    {
     "name": "stdout",
     "output_type": "stream",
     "text": [
      "The average shortest distance is 9.592795477759587\n"
     ]
    }
   ],
   "source": [
    "# c)\n",
    "print(f'The average shortest distance is {nx.average_shortest_path_length(G)}')"
   ]
  },
  {
   "cell_type": "markdown",
   "id": "3adcffea",
   "metadata": {},
   "source": [
    "**Answer for (c)**:\n",
    "The average shortest distance between the nodes inidicate the average numbers of steps need to take to walk from one node to another (both nodes are taken randomly). So in the amazonNetwork, it takes around 9.6 steps to get to another node in average."
   ]
  },
  {
   "cell_type": "code",
   "execution_count": 5,
   "id": "064dcfce",
   "metadata": {},
   "outputs": [
    {
     "name": "stdout",
     "output_type": "stream",
     "text": [
      "The transitivity is 0.4339169154480595\n",
      "The average clustering coefficient is 0.4086089178720651\n"
     ]
    }
   ],
   "source": [
    "# d)\n",
    "print(f'The transitivity is {nx.transitivity(G)}')\n",
    "print(f'The average clustering coefficient is {nx.average_clustering(G)}')"
   ]
  },
  {
   "cell_type": "markdown",
   "id": "9ededf4e",
   "metadata": {},
   "source": [
    "**Answer for (d)**:\n",
    "According to the definition of transitivity and average clustering coefficient as shown below:\n",
    "\n",
    "$$T=3 \\frac{\\# triangles }{\\# triads }$$\n",
    "\n",
    "$$C=\\frac{1}{n} \\sum_{v \\in G} c_v$$\n",
    "\n",
    "we can find out that both transitivity and average clustering coefficient are inidicators of the degree of association (or can alse be called degree of clustering) in the graph. In this graph, the numerical numbers of transitivity and average clustering coefficient are quiet close (both around 0.4), indicating that this graph is not a highly clustered graph."
   ]
  },
  {
   "cell_type": "code",
   "execution_count": 6,
   "id": "60eee2af",
   "metadata": {},
   "outputs": [
    {
     "name": "stdout",
     "output_type": "stream",
     "text": [
      "The top 10 nodes with the highest PageRank are:\n"
     ]
    },
    {
     "data": {
      "text/html": [
       "<div>\n",
       "<style scoped>\n",
       "    .dataframe tbody tr th:only-of-type {\n",
       "        vertical-align: middle;\n",
       "    }\n",
       "\n",
       "    .dataframe tbody tr th {\n",
       "        vertical-align: top;\n",
       "    }\n",
       "\n",
       "    .dataframe thead th {\n",
       "        text-align: right;\n",
       "    }\n",
       "</style>\n",
       "<table border=\"1\" class=\"dataframe\">\n",
       "  <thead>\n",
       "    <tr style=\"text-align: right;\">\n",
       "      <th></th>\n",
       "      <th>id</th>\n",
       "      <th>PageRankScore</th>\n",
       "    </tr>\n",
       "  </thead>\n",
       "  <tbody>\n",
       "    <tr>\n",
       "      <th>0</th>\n",
       "      <td>8</td>\n",
       "      <td>0.003625</td>\n",
       "    </tr>\n",
       "    <tr>\n",
       "      <th>1</th>\n",
       "      <td>481</td>\n",
       "      <td>0.002434</td>\n",
       "    </tr>\n",
       "    <tr>\n",
       "      <th>2</th>\n",
       "      <td>33</td>\n",
       "      <td>0.002297</td>\n",
       "    </tr>\n",
       "    <tr>\n",
       "      <th>3</th>\n",
       "      <td>18</td>\n",
       "      <td>0.002103</td>\n",
       "    </tr>\n",
       "    <tr>\n",
       "      <th>4</th>\n",
       "      <td>23</td>\n",
       "      <td>0.002079</td>\n",
       "    </tr>\n",
       "    <tr>\n",
       "      <th>5</th>\n",
       "      <td>30</td>\n",
       "      <td>0.001882</td>\n",
       "    </tr>\n",
       "    <tr>\n",
       "      <th>6</th>\n",
       "      <td>346</td>\n",
       "      <td>0.001863</td>\n",
       "    </tr>\n",
       "    <tr>\n",
       "      <th>7</th>\n",
       "      <td>99</td>\n",
       "      <td>0.001820</td>\n",
       "    </tr>\n",
       "    <tr>\n",
       "      <th>8</th>\n",
       "      <td>93</td>\n",
       "      <td>0.001792</td>\n",
       "    </tr>\n",
       "    <tr>\n",
       "      <th>9</th>\n",
       "      <td>21</td>\n",
       "      <td>0.001659</td>\n",
       "    </tr>\n",
       "  </tbody>\n",
       "</table>\n",
       "</div>"
      ],
      "text/plain": [
       "    id  PageRankScore\n",
       "0    8       0.003625\n",
       "1  481       0.002434\n",
       "2   33       0.002297\n",
       "3   18       0.002103\n",
       "4   23       0.002079\n",
       "5   30       0.001882\n",
       "6  346       0.001863\n",
       "7   99       0.001820\n",
       "8   93       0.001792\n",
       "9   21       0.001659"
      ]
     },
     "metadata": {},
     "output_type": "display_data"
    }
   ],
   "source": [
    "# e)\n",
    "pr = nx.pagerank(G, alpha=0.5)\n",
    "pr_sorted = sorted(pr.items(), key=lambda x:x[1], reverse=True)\n",
    "pr_top10 = pd.DataFrame(pr_sorted[:10], columns=[\"id\", \"PageRankScore\"])\n",
    "print(f'The top 10 nodes with the highest PageRank are:')\n",
    "display(pr_top10)"
   ]
  },
  {
   "cell_type": "markdown",
   "id": "4df2f949",
   "metadata": {},
   "source": [
    "**Answer for (e)**:\n",
    "From the table of top 10 nodes with the highest PageRank, we can find that these 10 nodes have the most importance in the graph G according to PageRank model. In other words, these 10 nodes are considered as the most important pages in the graph, indicating that they may be referred most frequently by other pages."
   ]
  },
  {
   "cell_type": "markdown",
   "id": "c9e8f693",
   "metadata": {},
   "source": [
    "## Part 2: Predicting Review-Rating using Features derived from network properties"
   ]
  },
  {
   "cell_type": "markdown",
   "id": "436b104a",
   "metadata": {},
   "source": [
    "### 2.1 Data Preprocessing"
   ]
  },
  {
   "cell_type": "code",
   "execution_count": 72,
   "id": "e618bf38",
   "metadata": {},
   "outputs": [
    {
     "data": {
      "text/html": [
       "<div>\n",
       "<style scoped>\n",
       "    .dataframe tbody tr th:only-of-type {\n",
       "        vertical-align: middle;\n",
       "    }\n",
       "\n",
       "    .dataframe tbody tr th {\n",
       "        vertical-align: top;\n",
       "    }\n",
       "\n",
       "    .dataframe thead th {\n",
       "        text-align: right;\n",
       "    }\n",
       "</style>\n",
       "<table border=\"1\" class=\"dataframe\">\n",
       "  <thead>\n",
       "    <tr style=\"text-align: right;\">\n",
       "      <th></th>\n",
       "      <th>id</th>\n",
       "      <th>title</th>\n",
       "      <th>group</th>\n",
       "      <th>review</th>\n",
       "    </tr>\n",
       "  </thead>\n",
       "  <tbody>\n",
       "    <tr>\n",
       "      <th>0</th>\n",
       "      <td>3</td>\n",
       "      <td>World War II Allied Fighter Planes Trading Cards</td>\n",
       "      <td>Book</td>\n",
       "      <td>5.0</td>\n",
       "    </tr>\n",
       "    <tr>\n",
       "      <th>1</th>\n",
       "      <td>5</td>\n",
       "      <td>Prayers That Avail Much for Business: Executive</td>\n",
       "      <td>Book</td>\n",
       "      <td>0.0</td>\n",
       "    </tr>\n",
       "    <tr>\n",
       "      <th>2</th>\n",
       "      <td>7</td>\n",
       "      <td>Batik</td>\n",
       "      <td>Music</td>\n",
       "      <td>4.5</td>\n",
       "    </tr>\n",
       "    <tr>\n",
       "      <th>3</th>\n",
       "      <td>10</td>\n",
       "      <td>The Edward Said Reader</td>\n",
       "      <td>Book</td>\n",
       "      <td>4.0</td>\n",
       "    </tr>\n",
       "    <tr>\n",
       "      <th>4</th>\n",
       "      <td>11</td>\n",
       "      <td>Resetting the Clock : Five Anti-Aging Hormone...</td>\n",
       "      <td>Book</td>\n",
       "      <td>5.0</td>\n",
       "    </tr>\n",
       "  </tbody>\n",
       "</table>\n",
       "</div>"
      ],
      "text/plain": [
       "   id                                              title  group  review\n",
       "0   3   World War II Allied Fighter Planes Trading Cards   Book     5.0\n",
       "1   5    Prayers That Avail Much for Business: Executive   Book     0.0\n",
       "2   7                                              Batik  Music     4.5\n",
       "3  10                             The Edward Said Reader   Book     4.0\n",
       "4  11   Resetting the Clock : Five Anti-Aging Hormone...   Book     5.0"
      ]
     },
     "execution_count": 72,
     "metadata": {},
     "output_type": "execute_result"
    }
   ],
   "source": [
    "# load dataset\n",
    "train = pd.read_csv('reviewTrain.csv')\n",
    "train[\"group\"] = [s.strip() for s in train[\"group\"]]\n",
    "# train = train.drop(columns=['title'])\n",
    "train.head()"
   ]
  },
  {
   "cell_type": "code",
   "execution_count": 73,
   "id": "7db05b0d",
   "metadata": {},
   "outputs": [
    {
     "data": {
      "text/html": [
       "<div>\n",
       "<style scoped>\n",
       "    .dataframe tbody tr th:only-of-type {\n",
       "        vertical-align: middle;\n",
       "    }\n",
       "\n",
       "    .dataframe tbody tr th {\n",
       "        vertical-align: top;\n",
       "    }\n",
       "\n",
       "    .dataframe thead th {\n",
       "        text-align: right;\n",
       "    }\n",
       "</style>\n",
       "<table border=\"1\" class=\"dataframe\">\n",
       "  <thead>\n",
       "    <tr style=\"text-align: right;\">\n",
       "      <th></th>\n",
       "      <th>id</th>\n",
       "      <th>title</th>\n",
       "      <th>group</th>\n",
       "      <th>review</th>\n",
       "    </tr>\n",
       "  </thead>\n",
       "  <tbody>\n",
       "    <tr>\n",
       "      <th>0</th>\n",
       "      <td>90</td>\n",
       "      <td>The Eagle Has Landed</td>\n",
       "      <td>Book</td>\n",
       "      <td>NaN</td>\n",
       "    </tr>\n",
       "    <tr>\n",
       "      <th>1</th>\n",
       "      <td>1372</td>\n",
       "      <td>Che in Africa: Che Guevara's Congo Diary</td>\n",
       "      <td>Book</td>\n",
       "      <td>NaN</td>\n",
       "    </tr>\n",
       "    <tr>\n",
       "      <th>2</th>\n",
       "      <td>1382</td>\n",
       "      <td>The Darwin Awards II : Unnatural Selection</td>\n",
       "      <td>Book</td>\n",
       "      <td>NaN</td>\n",
       "    </tr>\n",
       "    <tr>\n",
       "      <th>3</th>\n",
       "      <td>253</td>\n",
       "      <td>Celtic Glory</td>\n",
       "      <td>Music</td>\n",
       "      <td>NaN</td>\n",
       "    </tr>\n",
       "    <tr>\n",
       "      <th>4</th>\n",
       "      <td>671</td>\n",
       "      <td>Sublte Aromatherapy</td>\n",
       "      <td>Book</td>\n",
       "      <td>NaN</td>\n",
       "    </tr>\n",
       "  </tbody>\n",
       "</table>\n",
       "</div>"
      ],
      "text/plain": [
       "     id                                        title  group  review\n",
       "0    90                         The Eagle Has Landed   Book     NaN\n",
       "1  1372     Che in Africa: Che Guevara's Congo Diary   Book     NaN\n",
       "2  1382   The Darwin Awards II : Unnatural Selection   Book     NaN\n",
       "3   253                                 Celtic Glory  Music     NaN\n",
       "4   671                          Sublte Aromatherapy   Book     NaN"
      ]
     },
     "execution_count": 73,
     "metadata": {},
     "output_type": "execute_result"
    }
   ],
   "source": [
    "test = pd.read_csv('reviewTest.csv')\n",
    "test[\"group\"] = [s.strip() for s in test[\"group\"]]\n",
    "# test = test.drop(columns=['title'])\n",
    "test.head()"
   ]
  },
  {
   "cell_type": "code",
   "execution_count": 32,
   "id": "efda7536",
   "metadata": {},
   "outputs": [],
   "source": [
    "# compute features\n",
    "clustering_coef = nx.clustering(G)\n",
    "pr = nx.pagerank(G, alpha=0.5)\n",
    "degree_cent = nx.degree_centrality(G)\n",
    "closeness_cent = nx.closeness_centrality(G)\n",
    "betweenness_cent = nx.betweenness_centrality(G)"
   ]
  },
  {
   "cell_type": "code",
   "execution_count": 74,
   "id": "d1f4233c",
   "metadata": {},
   "outputs": [
    {
     "name": "stdout",
     "output_type": "stream",
     "text": [
      "Here is the list of the features I used: ['clustering_coef', 'pr', 'degree_cent', 'closeness_cent', 'betweenness_cent', 'group_Book', 'group_DVD', 'group_Music', 'group_Toy', 'group_Video']\n"
     ]
    }
   ],
   "source": [
    "# add features\n",
    "feature_list = []\n",
    "def addFeature(feature_df, feature_name):\n",
    "    feature_list.append(feature_name)\n",
    "    train[feature_name] = [feature_df[i] if i in feature_df else 0 for i in train[\"id\"]]\n",
    "    test[feature_name] = [feature_df[i] if i in feature_df else 0 for i in test[\"id\"]]\n",
    "\n",
    "addFeature(clustering_coef, 'clustering_coef')\n",
    "addFeature(pr, \"pr\")\n",
    "addFeature(degree_cent, \"degree_cent\")\n",
    "addFeature(closeness_cent, \"closeness_cent\")\n",
    "addFeature(betweenness_cent, \"betweenness_cent\")\n",
    "\n",
    "feature_list += list(pd.get_dummies(train['group'], prefix='group').keys())\n",
    "train = pd.get_dummies(train, columns=[\"group\"])\n",
    "test = pd.get_dummies(test, columns=[\"group\"])\n",
    "test['group_Toy'] = 0\n",
    "\n",
    "print(f'Here is the list of the features I used: {feature_list}')"
   ]
  },
  {
   "cell_type": "code",
   "execution_count": 59,
   "id": "9895f2e7",
   "metadata": {},
   "outputs": [
    {
     "data": {
      "text/html": [
       "<div>\n",
       "<style scoped>\n",
       "    .dataframe tbody tr th:only-of-type {\n",
       "        vertical-align: middle;\n",
       "    }\n",
       "\n",
       "    .dataframe tbody tr th {\n",
       "        vertical-align: top;\n",
       "    }\n",
       "\n",
       "    .dataframe thead th {\n",
       "        text-align: right;\n",
       "    }\n",
       "</style>\n",
       "<table border=\"1\" class=\"dataframe\">\n",
       "  <thead>\n",
       "    <tr style=\"text-align: right;\">\n",
       "      <th></th>\n",
       "      <th>id</th>\n",
       "      <th>title</th>\n",
       "      <th>review</th>\n",
       "      <th>clustering_coef</th>\n",
       "      <th>pr</th>\n",
       "      <th>degree_cent</th>\n",
       "      <th>closeness_cent</th>\n",
       "      <th>betweenness_cent</th>\n",
       "      <th>group_Book</th>\n",
       "      <th>group_DVD</th>\n",
       "      <th>group_Music</th>\n",
       "      <th>group_Toy</th>\n",
       "      <th>group_Video</th>\n",
       "    </tr>\n",
       "  </thead>\n",
       "  <tbody>\n",
       "    <tr>\n",
       "      <th>0</th>\n",
       "      <td>3</td>\n",
       "      <td>World War II Allied Fighter Planes Trading Cards</td>\n",
       "      <td>5.0</td>\n",
       "      <td>0.450000</td>\n",
       "      <td>0.000197</td>\n",
       "      <td>0.001890</td>\n",
       "      <td>0.000000</td>\n",
       "      <td>0.000000</td>\n",
       "      <td>1</td>\n",
       "      <td>0</td>\n",
       "      <td>0</td>\n",
       "      <td>0</td>\n",
       "      <td>0</td>\n",
       "    </tr>\n",
       "    <tr>\n",
       "      <th>1</th>\n",
       "      <td>5</td>\n",
       "      <td>Prayers That Avail Much for Business: Executive</td>\n",
       "      <td>0.0</td>\n",
       "      <td>0.142157</td>\n",
       "      <td>0.000774</td>\n",
       "      <td>0.005669</td>\n",
       "      <td>0.133688</td>\n",
       "      <td>0.004032</td>\n",
       "      <td>1</td>\n",
       "      <td>0</td>\n",
       "      <td>0</td>\n",
       "      <td>0</td>\n",
       "      <td>0</td>\n",
       "    </tr>\n",
       "    <tr>\n",
       "      <th>2</th>\n",
       "      <td>7</td>\n",
       "      <td>Batik</td>\n",
       "      <td>4.5</td>\n",
       "      <td>0.109562</td>\n",
       "      <td>0.001263</td>\n",
       "      <td>0.008692</td>\n",
       "      <td>0.150353</td>\n",
       "      <td>0.018768</td>\n",
       "      <td>0</td>\n",
       "      <td>0</td>\n",
       "      <td>1</td>\n",
       "      <td>0</td>\n",
       "      <td>0</td>\n",
       "    </tr>\n",
       "    <tr>\n",
       "      <th>3</th>\n",
       "      <td>10</td>\n",
       "      <td>The Edward Said Reader</td>\n",
       "      <td>4.0</td>\n",
       "      <td>0.285714</td>\n",
       "      <td>0.000424</td>\n",
       "      <td>0.003779</td>\n",
       "      <td>0.116834</td>\n",
       "      <td>0.003049</td>\n",
       "      <td>1</td>\n",
       "      <td>0</td>\n",
       "      <td>0</td>\n",
       "      <td>0</td>\n",
       "      <td>0</td>\n",
       "    </tr>\n",
       "    <tr>\n",
       "      <th>4</th>\n",
       "      <td>11</td>\n",
       "      <td>Resetting the Clock : Five Anti-Aging Hormone...</td>\n",
       "      <td>5.0</td>\n",
       "      <td>0.120344</td>\n",
       "      <td>0.000906</td>\n",
       "      <td>0.010204</td>\n",
       "      <td>0.008231</td>\n",
       "      <td>0.008756</td>\n",
       "      <td>1</td>\n",
       "      <td>0</td>\n",
       "      <td>0</td>\n",
       "      <td>0</td>\n",
       "      <td>0</td>\n",
       "    </tr>\n",
       "  </tbody>\n",
       "</table>\n",
       "</div>"
      ],
      "text/plain": [
       "   id                                              title  review  \\\n",
       "0   3   World War II Allied Fighter Planes Trading Cards     5.0   \n",
       "1   5    Prayers That Avail Much for Business: Executive     0.0   \n",
       "2   7                                              Batik     4.5   \n",
       "3  10                             The Edward Said Reader     4.0   \n",
       "4  11   Resetting the Clock : Five Anti-Aging Hormone...     5.0   \n",
       "\n",
       "   clustering_coef        pr  degree_cent  closeness_cent  betweenness_cent  \\\n",
       "0         0.450000  0.000197     0.001890        0.000000          0.000000   \n",
       "1         0.142157  0.000774     0.005669        0.133688          0.004032   \n",
       "2         0.109562  0.001263     0.008692        0.150353          0.018768   \n",
       "3         0.285714  0.000424     0.003779        0.116834          0.003049   \n",
       "4         0.120344  0.000906     0.010204        0.008231          0.008756   \n",
       "\n",
       "   group_Book  group_DVD  group_Music  group_Toy  group_Video  \n",
       "0           1          0            0          0            0  \n",
       "1           1          0            0          0            0  \n",
       "2           0          0            1          0            0  \n",
       "3           1          0            0          0            0  \n",
       "4           1          0            0          0            0  "
      ]
     },
     "execution_count": 59,
     "metadata": {},
     "output_type": "execute_result"
    }
   ],
   "source": [
    "train.head()"
   ]
  },
  {
   "cell_type": "code",
   "execution_count": 60,
   "id": "d0f7f06b",
   "metadata": {},
   "outputs": [
    {
     "data": {
      "text/html": [
       "<div>\n",
       "<style scoped>\n",
       "    .dataframe tbody tr th:only-of-type {\n",
       "        vertical-align: middle;\n",
       "    }\n",
       "\n",
       "    .dataframe tbody tr th {\n",
       "        vertical-align: top;\n",
       "    }\n",
       "\n",
       "    .dataframe thead th {\n",
       "        text-align: right;\n",
       "    }\n",
       "</style>\n",
       "<table border=\"1\" class=\"dataframe\">\n",
       "  <thead>\n",
       "    <tr style=\"text-align: right;\">\n",
       "      <th></th>\n",
       "      <th>id</th>\n",
       "      <th>title</th>\n",
       "      <th>review</th>\n",
       "      <th>clustering_coef</th>\n",
       "      <th>pr</th>\n",
       "      <th>degree_cent</th>\n",
       "      <th>closeness_cent</th>\n",
       "      <th>betweenness_cent</th>\n",
       "      <th>group_Book</th>\n",
       "      <th>group_DVD</th>\n",
       "      <th>group_Music</th>\n",
       "      <th>group_Video</th>\n",
       "      <th>group_Toy</th>\n",
       "    </tr>\n",
       "  </thead>\n",
       "  <tbody>\n",
       "    <tr>\n",
       "      <th>0</th>\n",
       "      <td>90</td>\n",
       "      <td>The Eagle Has Landed</td>\n",
       "      <td>NaN</td>\n",
       "      <td>0.250000</td>\n",
       "      <td>0.000347</td>\n",
       "      <td>0.003779</td>\n",
       "      <td>0.116428</td>\n",
       "      <td>3.048563e-02</td>\n",
       "      <td>1</td>\n",
       "      <td>0</td>\n",
       "      <td>0</td>\n",
       "      <td>0</td>\n",
       "      <td>0</td>\n",
       "    </tr>\n",
       "    <tr>\n",
       "      <th>1</th>\n",
       "      <td>1372</td>\n",
       "      <td>Che in Africa: Che Guevara's Congo Diary</td>\n",
       "      <td>NaN</td>\n",
       "      <td>0.288462</td>\n",
       "      <td>0.000300</td>\n",
       "      <td>0.003023</td>\n",
       "      <td>0.080232</td>\n",
       "      <td>9.535202e-03</td>\n",
       "      <td>1</td>\n",
       "      <td>0</td>\n",
       "      <td>0</td>\n",
       "      <td>0</td>\n",
       "      <td>0</td>\n",
       "    </tr>\n",
       "    <tr>\n",
       "      <th>2</th>\n",
       "      <td>1382</td>\n",
       "      <td>The Darwin Awards II : Unnatural Selection</td>\n",
       "      <td>NaN</td>\n",
       "      <td>0.750000</td>\n",
       "      <td>0.000338</td>\n",
       "      <td>0.003401</td>\n",
       "      <td>0.063412</td>\n",
       "      <td>3.095826e-07</td>\n",
       "      <td>1</td>\n",
       "      <td>0</td>\n",
       "      <td>0</td>\n",
       "      <td>0</td>\n",
       "      <td>0</td>\n",
       "    </tr>\n",
       "    <tr>\n",
       "      <th>3</th>\n",
       "      <td>253</td>\n",
       "      <td>Celtic Glory</td>\n",
       "      <td>NaN</td>\n",
       "      <td>0.750000</td>\n",
       "      <td>0.000268</td>\n",
       "      <td>0.002268</td>\n",
       "      <td>0.072458</td>\n",
       "      <td>1.031101e-04</td>\n",
       "      <td>0</td>\n",
       "      <td>0</td>\n",
       "      <td>1</td>\n",
       "      <td>0</td>\n",
       "      <td>0</td>\n",
       "    </tr>\n",
       "    <tr>\n",
       "      <th>4</th>\n",
       "      <td>671</td>\n",
       "      <td>Sublte Aromatherapy</td>\n",
       "      <td>NaN</td>\n",
       "      <td>0.562500</td>\n",
       "      <td>0.000358</td>\n",
       "      <td>0.003401</td>\n",
       "      <td>0.093620</td>\n",
       "      <td>7.927132e-04</td>\n",
       "      <td>1</td>\n",
       "      <td>0</td>\n",
       "      <td>0</td>\n",
       "      <td>0</td>\n",
       "      <td>0</td>\n",
       "    </tr>\n",
       "  </tbody>\n",
       "</table>\n",
       "</div>"
      ],
      "text/plain": [
       "     id                                        title  review  clustering_coef  \\\n",
       "0    90                         The Eagle Has Landed     NaN         0.250000   \n",
       "1  1372     Che in Africa: Che Guevara's Congo Diary     NaN         0.288462   \n",
       "2  1382   The Darwin Awards II : Unnatural Selection     NaN         0.750000   \n",
       "3   253                                 Celtic Glory     NaN         0.750000   \n",
       "4   671                          Sublte Aromatherapy     NaN         0.562500   \n",
       "\n",
       "         pr  degree_cent  closeness_cent  betweenness_cent  group_Book  \\\n",
       "0  0.000347     0.003779        0.116428      3.048563e-02           1   \n",
       "1  0.000300     0.003023        0.080232      9.535202e-03           1   \n",
       "2  0.000338     0.003401        0.063412      3.095826e-07           1   \n",
       "3  0.000268     0.002268        0.072458      1.031101e-04           0   \n",
       "4  0.000358     0.003401        0.093620      7.927132e-04           1   \n",
       "\n",
       "   group_DVD  group_Music  group_Video  group_Toy  \n",
       "0          0            0            0          0  \n",
       "1          0            0            0          0  \n",
       "2          0            0            0          0  \n",
       "3          0            1            0          0  \n",
       "4          0            0            0          0  "
      ]
     },
     "execution_count": 60,
     "metadata": {},
     "output_type": "execute_result"
    }
   ],
   "source": [
    "test.head()"
   ]
  },
  {
   "cell_type": "markdown",
   "id": "108a4759",
   "metadata": {},
   "source": [
    "### 2.2 Model Building"
   ]
  },
  {
   "cell_type": "code",
   "execution_count": 96,
   "id": "db4dd83a",
   "metadata": {},
   "outputs": [],
   "source": [
    "from sklearn.linear_model import LogisticRegression\n",
    "from sklearn.svm import SVR\n",
    "from sklearn.neural_network import MLPRegressor\n",
    "from sklearn.model_selection import train_test_split\n",
    "from sklearn.metrics import mean_absolute_error\n",
    "from sklearn.pipeline import make_pipeline\n",
    "from sklearn.preprocessing import StandardScaler"
   ]
  },
  {
   "cell_type": "code",
   "execution_count": 93,
   "id": "e1976f77",
   "metadata": {},
   "outputs": [],
   "source": [
    "X_train_val = train[feature_list]\n",
    "y_train_val = train['review']\n",
    "X_train, X_val, y_train, y_val = train_test_split(X_train_val, y_train_val, random_state=0)\n",
    "X_test = test[feature_list]"
   ]
  },
  {
   "cell_type": "code",
   "execution_count": 97,
   "id": "9adba5d1",
   "metadata": {},
   "outputs": [
    {
     "data": {
      "text/plain": [
       "1.4508816819598904"
      ]
     },
     "execution_count": 97,
     "metadata": {},
     "output_type": "execute_result"
    }
   ],
   "source": [
    "# Support Vector Machine (SVM)\n",
    "svr = make_pipeline(StandardScaler(), SVR(C=1.0, epsilon=0.2)).fit(X_train, y_train)\n",
    "y_pred = svr.predict(X_val)\n",
    "mean_absolute_error(y_val, y_pred)"
   ]
  },
  {
   "cell_type": "code",
   "execution_count": 98,
   "id": "9b74264e",
   "metadata": {},
   "outputs": [
    {
     "data": {
      "text/plain": [
       "1.6536110258690715"
      ]
     },
     "execution_count": 98,
     "metadata": {},
     "output_type": "execute_result"
    }
   ],
   "source": [
    "# Multi-layer perceptron\n",
    "mlp = MLPRegressor(random_state=1, max_iter=500).fit(X_train, y_train)\n",
    "y_pred = mlp.predict(X_val)\n",
    "mean_absolute_error(y_val, y_pred)"
   ]
  },
  {
   "cell_type": "markdown",
   "id": "02c67e21",
   "metadata": {},
   "source": [
    "Comparing two models above, we find out that SVM has a better performance than Multi-layer perceptron on validation set, so we decide to adopt SVM as our final model and predict the result."
   ]
  },
  {
   "cell_type": "code",
   "execution_count": 102,
   "id": "c7eb6ec7",
   "metadata": {},
   "outputs": [],
   "source": [
    "# make the prediction\n",
    "svr = make_pipeline(StandardScaler(), SVR(C=1.0, epsilon=0.2)).fit(X_train_val, y_train_val)\n",
    "y_pred = svr.predict(X_test)"
   ]
  },
  {
   "cell_type": "code",
   "execution_count": 103,
   "id": "e87ce3aa",
   "metadata": {},
   "outputs": [],
   "source": [
    "# output result\n",
    "test_result = pd.read_csv('reviewTest.csv')\n",
    "test_result['review'] = y_pred\n",
    "test_result.to_csv('reviewTest.csv')"
   ]
  },
  {
   "cell_type": "code",
   "execution_count": null,
   "id": "2dc8c8f0",
   "metadata": {},
   "outputs": [],
   "source": []
  }
 ],
 "metadata": {
  "kernelspec": {
   "display_name": "Python 3",
   "language": "python",
   "name": "python3"
  },
  "language_info": {
   "codemirror_mode": {
    "name": "ipython",
    "version": 3
   },
   "file_extension": ".py",
   "mimetype": "text/x-python",
   "name": "python",
   "nbconvert_exporter": "python",
   "pygments_lexer": "ipython3",
   "version": "3.9.7"
  }
 },
 "nbformat": 4,
 "nbformat_minor": 5
}
